{
 "cells": [
  {
   "cell_type": "markdown",
   "metadata": {},
   "source": [
    "## Git to najpopularniejszy system kontroli wersji."
   ]
  },
  {
   "cell_type": "markdown",
   "metadata": {},
   "source": [
    "Przydatne linki:\n",
    "\n",
    "https://git-scm.com/book/en/v2/Getting-Started-About-Version-Control\n",
    "\n",
    "https://www.youtube.com/watch?v=D6EI7EbEN4Q&list=PLjHmWifVUNMKIGHmaGPVqSD-L6i1Zw-MH&index=1"
   ]
  },
  {
   "cell_type": "markdown",
   "metadata": {},
   "source": [
    "### SYSTEMY KONTROLI WERSJI:\n",
    "to programy zapisujące zmiany zachodzące w plikach (wersje), dzięki którym można przejrzeć ich historie i w razie potrzeby przywrócić zmiany. Wszystkie te informacje są zapisywane w repozytorium projektu."
   ]
  },
  {
   "cell_type": "markdown",
   "metadata": {},
   "source": [
    "### Jaka jest rola Gita:\n",
    "1. przegląd historii zmian, wraz z informacją kto i kiedy je wprowadził\n",
    "2. przywrócenie dowolnej wersji pliku lub projektu\n",
    "3. praca zespołowa poprzez wykorzystanie zdalnych repozytoriów, np Github, bez utraty kontroli nad kodem źródłowym\n",
    "4. Rozgałęzianie kodu (branching), który umożliwia tworzenie np. nowych funkcji niezależnie od siebie\n",
    "5. Możliwość pracy offline"
   ]
  },
  {
   "cell_type": "markdown",
   "metadata": {},
   "source": [
    "## ZAPISYWANIE PLIKOW NA GICIE:"
   ]
  },
  {
   "cell_type": "markdown",
   "metadata": {},
   "source": [
    "![](2.jpg)"
   ]
  },
  {
   "cell_type": "markdown",
   "metadata": {},
   "source": [
    "### Każdy plik może znajdować się w trzech stanach:\n",
    "1. Zmodyfikowany (modified) - to plik znajdujący się w katalogu roboczym. Aby dodać go do przechowalni, należy uzyc polecenia ```git add```. Żeby umieścić go od razu w repozytorium nalezy użyc polecenia ```git commit```\n",
    "2. Śledzony (staged) - to plik, który po wykonaniu polecenia ```git add``` znajduje się w poczekalni. Aby umieścić go w repozytorium należy użyć polecenia ```git commit```\n",
    "3. Zatwierdzony(commited) - plik, który po wykonaniu komendy ```git commit``` znajduje się w repozytorium"
   ]
  },
  {
   "cell_type": "markdown",
   "metadata": {},
   "source": [
    "![](3.jpg)"
   ]
  },
  {
   "cell_type": "markdown",
   "metadata": {},
   "source": [
    "Po wprowadzeniu zmiany i zcommitowaniu wersja pliku jest dokumentowana numerem commitu (zaznaczone na czerwono) i komentarzem:\n",
    "![](9.jpg)"
   ]
  },
  {
   "cell_type": "markdown",
   "metadata": {},
   "source": [
    "## PRAKTYKA:\n",
    "1. Pobranie Gita i zainstalowanie go\n",
    "2. Otworzenie folderu w którym ma być utworzone repozytorium\n",
    "3. Kliknięcie prawym przyciskiem myszy\n",
    "4. Wybranie ```Git Bash Here```\n",
    "5. Aby utworzyc repozytorium należy wpisać w kosoli ```git init```\n",
    "Po w trakcie tworzenia repozytorium automatycznie zostanie utworzony folder ```.git``` w którym Git przechowuje wszystkie dane o plikach, jednak nie należy w nim grzebać, a wszystkie operacje robić przez konsolę lub GUI.\n",
    "\n",
    "Druga możliwość to uruchomienie shella i przejście do konkretnego folderu, w którym chcemy pracować."
   ]
  },
  {
   "cell_type": "markdown",
   "metadata": {},
   "source": [
    "## SŁOWNIK:\n",
    "```git init``` - utworzenie repozytorium\n",
    "\n",
    "```git config --global user.name \"Imię Nazwisko\"``` - podanie danych, które będą identyfikowały osobę wprowadzającą zmiany w repozytorium\n",
    "\n",
    "```git config --global user.email bla@example.com``` - jw.\n",
    "\n",
    "```git status``` - sprawdzenie statusu repozytorium\n",
    "\n",
    "```git add <nazwa pliku>``` - dodanie pliku do przechowalni(stage)\n",
    "\n",
    "```git reset <nazwa pliku>``` - cofnięcie pliku ze stage/repozytorium do working directory \n",
    "\n",
    "```git commit <nazwa pliku>``` - przekazanie pliku z przechowalni do repozytorium wraz z komentarzem dotyczącym zmian; zatwierdzenie pliku\n",
    "\n",
    "```git clone```  - utworzenie kopii repozytorium\n",
    "\n",
    "```git push origin master``` - wyeksportowanie repozytorium np. do GitHub (origin - domyslny(pierwszy dodany) serwer zdalny; master - gałąź, w tym wypadku gałąź główna)\n",
    "\n",
    "``` git fetch``` - dzialanie odwrotne do `git push`\n",
    "\n",
    "```git checkout <nazwa pliku albo numer commitu>``` - usunięcie zmian wprowadzonym w pliku znajdującym się w stage albo repozytorium\n",
    "\n",
    "```git branch``` - utworzenie nowej gałęzi wersji pliku - w wyniku takiej pracy zmiany zachodzą tylko w odgałęzionej wersji, bez ingerencji w kod źródłowy (sprzed rozgałęzienia)\n",
    "\n",
    "```git clean <nazwa pliku>``` - usunięcie nieśledzonych plików i katalogów z working directory, to polecenie jest nieodwracalne\n",
    "\n",
    "```git rm <nazwa pliku>``` - usunięcie pliku z repozytorium\n",
    "\n",
    "```git reset```  + ```git checkout <nazwa usunietego pliku>``` - cofnięcie usunięcia wykonanego przez ```git rm```, pod warunkiem że nie doszło wcześniej do ```git commit``` \n",
    "\n",
    "```git revert <numer commitu>``` - odwróceniu zmian z wybranego commit'u i zapisanie go jako nowy commit, bezpieczny sposob przywracaniai zmian\n",
    "\n",
    "```git log``` - sprawdzenie historii zmian\n",
    "\n",
    "```git log --oneline``` - jw. ale w bardziej przejrzystej formie\n",
    "\n",
    "### FLAGI:\n",
    "```-n, --dry-run```         dry run\n",
    "\n",
    "```-v, --verbose```         be verbose\n",
    "\n",
    "```-i, --interactive```     interactive picking\n",
    "\n",
    "```-p, --patch```           select hunks interactively\n",
    "\n",
    "```-e, --edit```            edit current diff and apply\n",
    "\n",
    "```-f, --force```           allow adding otherwise ignored files\n",
    "\n",
    "```-u, --update```          update tracked files\n",
    "\n",
    "```--renormalize```         renormalize EOL of tracked files (implies -u)\n",
    "\n",
    "```-N, --intent-to-add```   record only the fact that the path will be added later\n",
    "\n",
    "```-A, --all```             add changes from all tracked and untracked files\n",
    "\n",
    "```--ignore-removal```      ignore paths removed in the working tree (same as --no-all)\n",
    "\n",
    "```--refresh```             don't add, only refresh the index\n",
    "\n",
    "```--ignore-errors```       just skip files which cannot be added because of errors\n",
    "\n",
    "```--ignore-missing```      check if - even missing - files are ignored in dry run\n",
    "\n",
    "```--chmod (+|-)x```        override the executable bit of the listed files"
   ]
  },
  {
   "cell_type": "markdown",
   "metadata": {},
   "source": [
    "## Integracja PyCharma z Gitem i Githubem:"
   ]
  },
  {
   "cell_type": "markdown",
   "metadata": {},
   "source": [
    "Zakładka VCS zawiera podstawowe funkcje gita, takie jak utworzenie repozytorium, commitowanie, klonowanie itp"
   ]
  },
  {
   "cell_type": "markdown",
   "metadata": {},
   "source": [
    "![](4.jpg)"
   ]
  },
  {
   "cell_type": "markdown",
   "metadata": {},
   "source": [
    "Dodatkowo w prawym górnym rogu jest ikona do update'u, commitowania i sprawdzenia historii:\n",
    "\n",
    "![](5.jpg)"
   ]
  },
  {
   "cell_type": "markdown",
   "metadata": {},
   "source": [
    "Aby podłączyć się z kontem na GitHub:\n",
    "![](7.jpg)"
   ]
  },
  {
   "cell_type": "markdown",
   "metadata": {},
   "source": [
    "A w prawym dolnym rogu jest możliwość zpushowania plików do Githuba:\n",
    "![](6.jpg)"
   ]
  },
  {
   "cell_type": "markdown",
   "metadata": {},
   "source": [
    "Foldery które nas nie interesują w repozytorium warto wrzucić do pliku .gitignore, po to żeby Git nie zawracał nimi głowy:\n",
    "![](8.jpg)"
   ]
  },
  {
   "cell_type": "markdown",
   "metadata": {},
   "source": [
    "### NANO:\n",
    "\n",
    "`ctr + x` - wyjscie z nano  \n",
    "`ctr + o` -  zapis w nano "
   ]
  },
  {
   "cell_type": "markdown",
   "metadata": {},
   "source": [
    "## GitHub i Git - umieszczanie plików na GitHubie:\n",
    "1. Utworzenie nowego repozytorium na GitHub:\n",
    "![](10.jpg)\n",
    "2. Podanie nazwy repozytorium i przejscie dalej\n",
    "3. Pobranie tego linku:\n",
    "![](11.jpg)\n",
    "4. Utworzenie repozytorium na Gicie, poprzez `git init` (jesli repozytorium jeszcze nie jest utworzone)\n",
    "5. Wpisanie w Gicie `git remote add origin <link>`\n",
    "6. Po tym kroku repozytorium na Gicie i GitHubie już się 'widzą'.\n",
    "7. Aby wypuścić projekt z Gita na Github należy wpisać ```git push origin master``` (origin - alias wklejonego wczesniej linka; master - gałąź, w tym wypadku gałąź główna)"
   ]
  },
  {
   "cell_type": "markdown",
   "metadata": {},
   "source": []
  }
 ],
 "metadata": {
  "kernelspec": {
   "display_name": "Python 3",
   "language": "python",
   "name": "python3"
  },
  "language_info": {
   "codemirror_mode": {
    "name": "ipython",
    "version": 3
   },
   "file_extension": ".py",
   "mimetype": "text/x-python",
   "name": "python",
   "nbconvert_exporter": "python",
   "pygments_lexer": "ipython3",
   "version": "3.7.5"
  }
 },
 "nbformat": 4,
 "nbformat_minor": 2
}
